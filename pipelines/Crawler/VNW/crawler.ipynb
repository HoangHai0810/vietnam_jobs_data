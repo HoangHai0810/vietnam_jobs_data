{
 "cells": [
  {
   "cell_type": "markdown",
   "metadata": {},
   "source": [
    "#"
   ]
  },
  {
   "cell_type": "code",
   "execution_count": null,
   "metadata": {},
   "outputs": [],
   "source": [
    "crawling_date = scrapy.Field()\n",
    "    company_name = scrapy.Field()\n",
    "    company_size = scrapy.Field()\n",
    "    job_title = scrapy.Field()\n",
    "    salary = scrapy.Field() \n",
    "    deadline = scrapy.Field()\n",
    "    views = scrapy.Field()\n",
    "    region = scrapy.Field()\n",
    "    description = scrapy.Field()\n",
    "    requirements = scrapy.Field()\n",
    "    benefits = scrapy.Field()\n",
    "    posted_date = scrapy.Field()\n",
    "    level = scrapy.Field()\n",
    "    profession = scrapy.Field()\n",
    "    skills = scrapy.Field()\n",
    "    field = scrapy.Field()\n",
    "    resume_language = scrapy.Field()\n",
    "    min_yoe = scrapy.Field()\n",
    "    nationality = scrapy.Field()\n",
    "    min_edu_level = scrapy.Field()\n",
    "    gender = scrapy.Field()\n",
    "    desired_age = scrapy.Field()\n",
    "    marital_status = scrapy.Field()\n",
    "    num_of_recruits = scrapy.Field()\n",
    "    working_day = scrapy.Field()\n",
    "    working_hours = scrapy.Field()\n",
    "    location = scrapy.Field()\n",
    "    keywords = scrapy.Field()"
   ]
  },
  {
   "cell_type": "code",
   "execution_count": 1,
   "metadata": {},
   "outputs": [],
   "source": [
    "import time\n",
    "import json\n",
    "import pandas as pd\n",
    "import time\n",
    "import numpy as np\n",
    "from selenium import webdriver\n",
    "from selenium.webdriver.support.ui import WebDriverWait\n",
    "from selenium.webdriver.support import expected_conditions as EC\n",
    "from selenium.webdriver.chrome.options import Options\n",
    "from selenium.webdriver.chrome.service import Service\n",
    "from selenium.webdriver.common.by import By\n",
    "from selenium.webdriver.common.keys import Keys\n",
    "from selenium.webdriver.common.action_chains import ActionChains\n",
    "from datetime import date\n",
    "import pyautogui\n",
    "import os\n",
    "from utils import *\n",
    "import scrapy\n",
    "from scrapy.selector import Selector\n",
    "import yaml\n",
    "import uuid\n",
    "from scrapy.crawler import CrawlerProcess"
   ]
  },
  {
   "cell_type": "code",
   "execution_count": null,
   "metadata": {},
   "outputs": [],
   "source": []
  },
  {
   "cell_type": "code",
   "execution_count": 2,
   "metadata": {},
   "outputs": [],
   "source": [
    "with open ('./selectors.yml', 'r') as file:\n",
    "    selectors = yaml.safe_load(file)"
   ]
  },
  {
   "cell_type": "code",
   "execution_count": 18,
   "metadata": {},
   "outputs": [
    {
     "name": "stdout",
     "output_type": "stream",
     "text": [
      "To be sleep\n",
      "Scroll:  0\n",
      "Scroll:  1\n",
      "Scroll:  2\n",
      "Scroll:  3\n",
      "Scroll:  4\n",
      "Scroll:  5\n",
      "Scroll:  6\n",
      "Scroll:  7\n",
      "Scroll:  8\n",
      "Scroll:  9\n",
      "50\n",
      "To be sleep\n",
      "Scroll:  0\n",
      "Scroll:  1\n",
      "Scroll:  2\n",
      "Scroll:  3\n",
      "Scroll:  4\n",
      "Scroll:  5\n",
      "Scroll:  6\n",
      "Scroll:  7\n",
      "Scroll:  8\n",
      "Scroll:  9\n",
      "86\n",
      "To be sleep\n",
      "Not find\n"
     ]
    }
   ],
   "source": [
    "domain = \"https://www.vietnamworks.com/tim-viec-lam/tim-tat-ca-viec-lam\"\n",
    "driver = configure_driver()\n",
    "\n",
    "category = [24,14,23,29,25,5,28,6,26,11,1,13,30,19,8,17,7,27,16,3,20,9,21,4,22,18,10,12,2,15]\n",
    "cnt = 190\n",
    "hrefs = []\n",
    "\n",
    "while(True):\n",
    "\n",
    "    driver.get(f\"https://www.vietnamworks.com/viec-lam?\" + f\"&page={cnt}\")\n",
    "    print(\"To be sleep\")\n",
    "    time.sleep(3)\n",
    "    cnt+=1\n",
    "    try:\n",
    "        check = driver.find_element(By.CSS_SELECTOR, \"h2[class='title']\").text\n",
    "        print(\"Not find\")\n",
    "        if check:\n",
    "            break\n",
    "    except:\n",
    "        pass\n",
    "\n",
    "    # Goi ham truot con tro chuot xuong cuoi trang\n",
    "    smooth_scroll(driver, 10)\n",
    "    scroll_page(driver)\n",
    "    hrefs = get_hrefs(driver)\n"
   ]
  },
  {
   "cell_type": "code",
   "execution_count": 37,
   "metadata": {},
   "outputs": [],
   "source": []
  },
  {
   "cell_type": "code",
   "execution_count": 47,
   "metadata": {},
   "outputs": [
    {
     "name": "stdout",
     "output_type": "stream",
     "text": [
      "('Giám Sát Bán Hàng', 'Thương lượng', 'Hết hạn trong 20 ngày', '522 lượt xem', 'Hà Nội', 'TRÁCH NHIỆM\\n\\nCDM chịu trách nhiệm xây dựng & phát triển đối tác Nhà phân phối tại các thị trường mới, thực hiện chiến lược GTM trên thị trường khu vực được phân công. Cụ thể:\\n\\n- Chiến lực RTM: Xác định độ ưu tiên và chiến lược của khu vực, lộ trình bao phủ, phạm vi tiếp cận tối ưu.\\n- Mô hình dịch vụ: Theo dõi và hỗ trợ xử lý các đơn hàng theo lộ trình & tần suất, tần suất giao hàng, PoV theo các điều khoản thương mại; SLA cho nhà phân phối, chi phí dịch vụ liên quan.\\n- Nắm bắt nhu cầu để giúp xây dựng khả năng kinh doanh của đội nhóm, duy trì và phát triển các MQH với Khách hàng (GT)/NPP\\n- Phản hồi thông tin thị trường cho các bộ phận liên quan (ngành hàng, kế hoạch ...)\\n- Tham mưu, đề xuất cho cấp quản lý về các kế hoạch xây dựng thị tường\\n- Báo cáo tiến độ & kết quả thực hiện công việc cho cấp trên', \"YÊU CẦU\\n\\nKinh nghiệm\\n\\n- Tốt nghiệp Cao Đẳng hoặc Đại Học\\n- Tối thiểu kinh nghiệm 2 - 3 năm làm Giám sát bán hàng kênh Truyền Thống (GT) mặt hàng tiêu dùng nhanh (FMCG) (Yêu cầu bắt buộc)\\n- Thông hiểu thị trường và có mối quan hệ với các NPP ngành hàng tiêu dùng nhanh.\\n\\nPhẩm chất cá nhân\\n- Kỹ năng giao tiếp, đàm phán và thuyết phục\\n- Thích thử thách với mô hình kinh doanh mới, có nhiều thay đổi.\\n- Có khả năng phát triển ý tưởng mới thành kế hoạch hành động.\\n- Chủ động: tìm kiếm giải pháp và báo cáo tiến độ thực hiện\\n- Năng động, nhanh nhẹn, linh hoạt.\\n- Tinh thần Can-do\\n\\nQUYỀN LỢI ỨNG VIÊN\\n\\nLương và Phụ cấp\\n\\n- Lương tháng thứ 13 với tiền thưởng hàng năm dựa trên hiệu suất làm việc, thưởng dự án, thưởng kinh doanh (dựa trên vị trí công việc)\\n- Phụ cấp ăn trưa: 730.000 VND/tháng\\n- Tiền thưởng dịp đặc biệt hàng năm: từ 3,500,000 đến 5,000,000 VND/năm\\n- Nghỉ phép: 15 ngày và 1 ngày nghỉ sinh nhật\\n- Bảo hiểm sức khỏe: bảo hiểm xã hội, phí bảo hiểm sức khỏe PVI, kiểm tra sức khỏe hàng năm tại Vinmec\\n- Kỳ nghỉ: 3-5 đêm tại Vinpearl mỗi năm (dựa trên cấp bậc công việc)\\n- Giảm học phí: từ 10% - 30% học phí cho con cái tại VinSchool (dựa trên cấp bậc công việc)\\n- Máy tính xách tay, màn hình và các thiết bị/công cụ cần thiết khác cho công việc.\\n\\nPhát triển Sự nghiệp\\n\\n- Review lương và level hàng năm\\n- Hành trình sự nghiệp đa dạng: Cơ hội quản lý hoặc Chuyên gia và luân chuyển nội bộ\\n- Nguồn học tập miễn phí trên các nền tảng Udemy, Coursera, O'Reilly; hội thảo nội bộ, tài trợ chứng chỉ và sự hướng dẫn độc quyền từ các cấp cao cấp.\\n\\nMôi trường làm việc\\n\\n- Môi trường làm việc mở và hợp tác, thúc đẩy làm việc việc tập trung và hoạt động làm việc nhóm\\n- Môi trường làm việc trẻ, năng động và hợp tác vì mục tiêu chung\\n- Khu vực giải trí: chơi game, bóng bàn, yoga, phòng tập thể dục, phòng tắm, góc ngủ trưa\\n- Các sự kiện xây dựng đội nhóm hàng quý/năm và các sự kiện nội bộ\", [{'Chăm sóc sức khoẻ': 'Premium Healthcare Program'}, {'Máy tính xách tay': 'Annual leave: 15 – 20 working days/year and Other leaves/public holidays'}, {'Hoạt động nhóm': 'Providing customized training courses according to business needs and upon your request'}], '09/09/2024', 'Nhân viên', 'Bán Lẻ/Tiêu Dùng > Quản Lý Khu Vực', 'Giám Sát Bán Hàng, Nghiên Cứu Thị Trường, Quản Lý Bán Hàng, FMCG', 'Phần Mềm CNTT/Dịch vụ Phần mềm', 'Bất kỳ', 'Không yêu cầu', 'Không hiển thị', 'Không giới hạn', 'Không hiển thị', 'Không hiển thị', 'Không hiển thị', 'Không hiển thị', '458 Phố Minh Khai, Khu đô thị Times City, Vĩnh Tuy, Hai Bà Trưng, Hà Nội, Việt Nam', ['Bán Lẻ/Tiêu Dùng', 'Quản Lý Khu Vực', 'Phần Mềm CNTT/Dịch vụ Phần mềm', 'Giám Sát Bán Hàng', 'Nghiên Cứu Thị Trường', 'Quản Lý Bán Hàng', 'FMCG', 'One Mount', 'Hà Nội'])\n"
     ]
    }
   ],
   "source": [
    "for href in hrefs:\n",
    "    driver.get(href)\n",
    "    time.sleep(3)\n",
    "    zoom_out()\n",
    "    data = crawl_data(driver)\n",
    "    print(data)\n",
    "    break"
   ]
  },
  {
   "cell_type": "code",
   "execution_count": 16,
   "metadata": {},
   "outputs": [
    {
     "name": "stdout",
     "output_type": "stream",
     "text": [
      "['https://www.vietnamworks.com/giam-sat-ban-hang--1820050-jv?source=searchResults&searchType=2&placement=1820050&sortBy=date', 'https://www.vietnamworks.com/senior-sourcing-specialist-hardgoods-furniture-decor-camping-household--1820793-jv?source=searchResults&searchType=2&placement=1820793&sortBy=date', 'https://www.vietnamworks.com/giam-doc-sieu-thi-tai-nang-chuoi-sieu-thi-winmart-1821156-jv?source=searchResults&searchType=2&placement=1821156&sortBy=date', 'https://www.vietnamworks.com/giam-doc-khoi-ngan-hang-ban-le--1820158-jv?source=searchResults&searchType=2&placement=1820158&sortBy=date', 'https://www.vietnamworks.com/truong-phong-marketing--1822988-jv?source=searchResults&searchType=2&placement=1822988&sortBy=date', 'https://www.vietnamworks.com/area-sales-manager-lao-cai-lai-chau-dien-bien--1818242-jv?source=searchResults&searchType=2&placement=1818242&sortBy=date', 'https://www.vietnamworks.com/sales-staff-mt-gt-channel-fmcg-1820371-jv?source=searchResults&searchType=2&placement=1820371&sortBy=date', 'https://www.vietnamworks.com/giam-doc-kinh-doanh-kinh-nghiem-nganh-hang-tieu-dung-nhanh-thuc-pham--1820181-jv?source=searchResults&searchType=2&placement=1820181&sortBy=date', 'https://www.vietnamworks.com/nhan-vien-xu-ly-djon-hang-mua-hang-(hdj-6-thang)-1815921-jv?source=searchResults&searchType=2&placement=1815921&sortBy=date']\n"
     ]
    }
   ],
   "source": [
    "print(hrefs)"
   ]
  },
  {
   "cell_type": "code",
   "execution_count": null,
   "metadata": {},
   "outputs": [],
   "source": [
    "loai_cv_btn = driver.find_element(By.CSS_SELECTOR, \"div[class='sc-fLvQuD jQOcwb']\")\n",
    "loai_cv_btn.click()"
   ]
  },
  {
   "cell_type": "markdown",
   "metadata": {},
   "source": [
    "- ten_cv\n",
    "- luong\n",
    "- thoi_han\n",
    "- luot_xem\n",
    "- khu_vuc (city)\n",
    "- mo_ta_cv\n",
    "- yeu_cau_cv\n",
    "- phuc_loi\n",
    "- ngay dang\n",
    "- ... (thong tin)\n",
    "- dia_chi\n",
    "- tu_khoa = []\n",
    "\n",
    "-hrefs[]:\n",
    "get(href)\n",
    " cafo data"
   ]
  }
 ],
 "metadata": {
  "kernelspec": {
   "display_name": "Python 3",
   "language": "python",
   "name": "python3"
  },
  "language_info": {
   "codemirror_mode": {
    "name": "ipython",
    "version": 3
   },
   "file_extension": ".py",
   "mimetype": "text/x-python",
   "name": "python",
   "nbconvert_exporter": "python",
   "pygments_lexer": "ipython3",
   "version": "3.9.13"
  }
 },
 "nbformat": 4,
 "nbformat_minor": 2
}
